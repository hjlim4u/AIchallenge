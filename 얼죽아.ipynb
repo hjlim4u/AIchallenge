{
  "nbformat": 4,
  "nbformat_minor": 0,
  "metadata": {
    "colab": {
      "name": "얼죽아.ipynb",
      "provenance": [],
      "collapsed_sections": [],
      "include_colab_link": true
    },
    "kernelspec": {
      "name": "python3",
      "display_name": "Python 3"
    }
  },
  "cells": [
    {
      "cell_type": "markdown",
      "metadata": {
        "id": "view-in-github",
        "colab_type": "text"
      },
      "source": [
        "<a href=\"https://colab.research.google.com/github/hjlim4u/AIchallenge/blob/main/%EC%96%BC%EC%A3%BD%EC%95%84.ipynb\" target=\"_parent\"><img src=\"https://colab.research.google.com/assets/colab-badge.svg\" alt=\"Open In Colab\"/></a>"
      ]
    },
    {
      "cell_type": "code",
      "metadata": {
        "id": "vyfaw3sm7rSb"
      },
      "source": [
        "from google.colab import drive"
      ],
      "execution_count": 1,
      "outputs": []
    },
    {
      "cell_type": "code",
      "metadata": {
        "id": "8mo7Wea19LDL",
        "colab": {
          "base_uri": "https://localhost:8080/"
        },
        "outputId": "0608d83a-e960-4062-e26d-f23c88df1da5"
      },
      "source": [
        "import pandas as pd\n",
        "import numpy as np\n",
        "import matplotlib.pyplot as plt\n",
        "\n",
        "import seaborn as sns\n",
        "\n",
        "%matplotlib inline\n",
        "\n",
        "import platform\n",
        "\n",
        "path = \"c:/Windows/Fonts/malgun.ttf\"\n",
        "from matplotlib import font_manager, rc\n",
        "if platform.system() == 'Darwin':\n",
        "    rc('font', family='AppleGothic')\n",
        "elif platform.system() == 'Windows':\n",
        "    font_name = font_manager.FontProperties(fname=path).get_name()\n",
        "    rc('font', family=font_name)\n",
        "else:\n",
        "    print('Unknown system... sorry~~~~') \n",
        "coffee_df=pd.read_csv(\"행정동별_커피분야_소비인구(2020.03_2020.05).csv\")\n",
        "\n"
      ],
      "execution_count": 3,
      "outputs": [
        {
          "output_type": "stream",
          "name": "stdout",
          "text": [
            "Unknown system... sorry~~~~\n"
          ]
        }
      ]
    },
    {
      "cell_type": "code",
      "source": [
        "coffee_df.shape"
      ],
      "metadata": {
        "colab": {
          "base_uri": "https://localhost:8080/"
        },
        "id": "qsrOPUTpv8_y",
        "outputId": "9f569280-4c9f-4cd5-9e48-9232fe202a02"
      },
      "execution_count": 12,
      "outputs": [
        {
          "output_type": "execute_result",
          "data": {
            "text/plain": [
              "(2410315, 8)"
            ]
          },
          "metadata": {},
          "execution_count": 12
        }
      ]
    },
    {
      "cell_type": "code",
      "metadata": {
        "id": "Adb2kKS_9mzk",
        "colab": {
          "base_uri": "https://localhost:8080/"
        },
        "outputId": "31e93daf-5121-4c0d-9d19-a20f3bd5e780"
      },
      "source": [
        "coffee_df.info"
      ],
      "execution_count": 4,
      "outputs": [
        {
          "output_type": "execute_result",
          "data": {
            "text/plain": [
              "<bound method DataFrame.info of           gov_dn_cd  brtc_nm signgu_nm adstrd_nm        de sex_se year_se  \\\n",
              "0        1111051500    서울특별시       종로구     청운효자동  20200301      F      20   \n",
              "1        1111051500    서울특별시       종로구     청운효자동  20200301      F      25   \n",
              "2        1111051500    서울특별시       종로구     청운효자동  20200301      F      30   \n",
              "3        1111051500    서울특별시       종로구     청운효자동  20200301      F      35   \n",
              "4        1111051500    서울특별시       종로구     청운효자동  20200301      F      45   \n",
              "...             ...      ...       ...       ...       ...    ...     ...   \n",
              "2410310  5013062000  제주특별자치도      서귀포시       예래동  20200530      X      xx   \n",
              "2410311  5013062000  제주특별자치도      서귀포시       예래동  20200531      F      25   \n",
              "2410312  5013062000  제주특별자치도      서귀포시       예래동  20200531      M      35   \n",
              "2410313  5013062000  제주특별자치도      서귀포시       예래동  20200531      M      40   \n",
              "2410314  5013062000  제주특별자치도      서귀포시       예래동  20200531      X      xx   \n",
              "\n",
              "         cnsmr_popltn_co  \n",
              "0              91.445718  \n",
              "1              83.825241  \n",
              "2              53.343335  \n",
              "3              60.963812  \n",
              "4              30.481906  \n",
              "...                  ...  \n",
              "2410310        22.861429  \n",
              "2410311        22.861429  \n",
              "2410312        38.102382  \n",
              "2410313        22.861429  \n",
              "2410314        22.861429  \n",
              "\n",
              "[2410315 rows x 8 columns]>"
            ]
          },
          "metadata": {},
          "execution_count": 4
        }
      ]
    },
    {
      "cell_type": "code",
      "source": [
        "coffee_df.columns"
      ],
      "metadata": {
        "colab": {
          "base_uri": "https://localhost:8080/"
        },
        "id": "D-1HRT-Vv51e",
        "outputId": "65bef20e-d24c-4747-d457-033003ff32a0"
      },
      "execution_count": 13,
      "outputs": [
        {
          "output_type": "execute_result",
          "data": {
            "text/plain": [
              "Index(['gov_dn_cd', 'brtc_nm', 'signgu_nm', 'adstrd_nm', 'de', 'sex_se',\n",
              "       'year_se', 'cnsmr_popltn_co'],\n",
              "      dtype='object')"
            ]
          },
          "metadata": {},
          "execution_count": 13
        }
      ]
    },
    {
      "cell_type": "code",
      "metadata": {
        "id": "lfnKqFXD9nhn",
        "colab": {
          "base_uri": "https://localhost:8080/",
          "height": 206
        },
        "outputId": "05a1bafd-fba4-4e33-d987-c32282d36b26"
      },
      "source": [
        "#3\n",
        "coffee_df.head()\n"
      ],
      "execution_count": 5,
      "outputs": [
        {
          "output_type": "execute_result",
          "data": {
            "text/plain": [
              "    gov_dn_cd brtc_nm signgu_nm adstrd_nm        de sex_se year_se  \\\n",
              "0  1111051500   서울특별시       종로구     청운효자동  20200301      F      20   \n",
              "1  1111051500   서울특별시       종로구     청운효자동  20200301      F      25   \n",
              "2  1111051500   서울특별시       종로구     청운효자동  20200301      F      30   \n",
              "3  1111051500   서울특별시       종로구     청운효자동  20200301      F      35   \n",
              "4  1111051500   서울특별시       종로구     청운효자동  20200301      F      45   \n",
              "\n",
              "   cnsmr_popltn_co  \n",
              "0        91.445718  \n",
              "1        83.825241  \n",
              "2        53.343335  \n",
              "3        60.963812  \n",
              "4        30.481906  "
            ],
            "text/html": [
              "\n",
              "  <div id=\"df-03bf65c1-dbd3-41ed-888e-1b4a0fef751b\">\n",
              "    <div class=\"colab-df-container\">\n",
              "      <div>\n",
              "<style scoped>\n",
              "    .dataframe tbody tr th:only-of-type {\n",
              "        vertical-align: middle;\n",
              "    }\n",
              "\n",
              "    .dataframe tbody tr th {\n",
              "        vertical-align: top;\n",
              "    }\n",
              "\n",
              "    .dataframe thead th {\n",
              "        text-align: right;\n",
              "    }\n",
              "</style>\n",
              "<table border=\"1\" class=\"dataframe\">\n",
              "  <thead>\n",
              "    <tr style=\"text-align: right;\">\n",
              "      <th></th>\n",
              "      <th>gov_dn_cd</th>\n",
              "      <th>brtc_nm</th>\n",
              "      <th>signgu_nm</th>\n",
              "      <th>adstrd_nm</th>\n",
              "      <th>de</th>\n",
              "      <th>sex_se</th>\n",
              "      <th>year_se</th>\n",
              "      <th>cnsmr_popltn_co</th>\n",
              "    </tr>\n",
              "  </thead>\n",
              "  <tbody>\n",
              "    <tr>\n",
              "      <th>0</th>\n",
              "      <td>1111051500</td>\n",
              "      <td>서울특별시</td>\n",
              "      <td>종로구</td>\n",
              "      <td>청운효자동</td>\n",
              "      <td>20200301</td>\n",
              "      <td>F</td>\n",
              "      <td>20</td>\n",
              "      <td>91.445718</td>\n",
              "    </tr>\n",
              "    <tr>\n",
              "      <th>1</th>\n",
              "      <td>1111051500</td>\n",
              "      <td>서울특별시</td>\n",
              "      <td>종로구</td>\n",
              "      <td>청운효자동</td>\n",
              "      <td>20200301</td>\n",
              "      <td>F</td>\n",
              "      <td>25</td>\n",
              "      <td>83.825241</td>\n",
              "    </tr>\n",
              "    <tr>\n",
              "      <th>2</th>\n",
              "      <td>1111051500</td>\n",
              "      <td>서울특별시</td>\n",
              "      <td>종로구</td>\n",
              "      <td>청운효자동</td>\n",
              "      <td>20200301</td>\n",
              "      <td>F</td>\n",
              "      <td>30</td>\n",
              "      <td>53.343335</td>\n",
              "    </tr>\n",
              "    <tr>\n",
              "      <th>3</th>\n",
              "      <td>1111051500</td>\n",
              "      <td>서울특별시</td>\n",
              "      <td>종로구</td>\n",
              "      <td>청운효자동</td>\n",
              "      <td>20200301</td>\n",
              "      <td>F</td>\n",
              "      <td>35</td>\n",
              "      <td>60.963812</td>\n",
              "    </tr>\n",
              "    <tr>\n",
              "      <th>4</th>\n",
              "      <td>1111051500</td>\n",
              "      <td>서울특별시</td>\n",
              "      <td>종로구</td>\n",
              "      <td>청운효자동</td>\n",
              "      <td>20200301</td>\n",
              "      <td>F</td>\n",
              "      <td>45</td>\n",
              "      <td>30.481906</td>\n",
              "    </tr>\n",
              "  </tbody>\n",
              "</table>\n",
              "</div>\n",
              "      <button class=\"colab-df-convert\" onclick=\"convertToInteractive('df-03bf65c1-dbd3-41ed-888e-1b4a0fef751b')\"\n",
              "              title=\"Convert this dataframe to an interactive table.\"\n",
              "              style=\"display:none;\">\n",
              "        \n",
              "  <svg xmlns=\"http://www.w3.org/2000/svg\" height=\"24px\"viewBox=\"0 0 24 24\"\n",
              "       width=\"24px\">\n",
              "    <path d=\"M0 0h24v24H0V0z\" fill=\"none\"/>\n",
              "    <path d=\"M18.56 5.44l.94 2.06.94-2.06 2.06-.94-2.06-.94-.94-2.06-.94 2.06-2.06.94zm-11 1L8.5 8.5l.94-2.06 2.06-.94-2.06-.94L8.5 2.5l-.94 2.06-2.06.94zm10 10l.94 2.06.94-2.06 2.06-.94-2.06-.94-.94-2.06-.94 2.06-2.06.94z\"/><path d=\"M17.41 7.96l-1.37-1.37c-.4-.4-.92-.59-1.43-.59-.52 0-1.04.2-1.43.59L10.3 9.45l-7.72 7.72c-.78.78-.78 2.05 0 2.83L4 21.41c.39.39.9.59 1.41.59.51 0 1.02-.2 1.41-.59l7.78-7.78 2.81-2.81c.8-.78.8-2.07 0-2.86zM5.41 20L4 18.59l7.72-7.72 1.47 1.35L5.41 20z\"/>\n",
              "  </svg>\n",
              "      </button>\n",
              "      \n",
              "  <style>\n",
              "    .colab-df-container {\n",
              "      display:flex;\n",
              "      flex-wrap:wrap;\n",
              "      gap: 12px;\n",
              "    }\n",
              "\n",
              "    .colab-df-convert {\n",
              "      background-color: #E8F0FE;\n",
              "      border: none;\n",
              "      border-radius: 50%;\n",
              "      cursor: pointer;\n",
              "      display: none;\n",
              "      fill: #1967D2;\n",
              "      height: 32px;\n",
              "      padding: 0 0 0 0;\n",
              "      width: 32px;\n",
              "    }\n",
              "\n",
              "    .colab-df-convert:hover {\n",
              "      background-color: #E2EBFA;\n",
              "      box-shadow: 0px 1px 2px rgba(60, 64, 67, 0.3), 0px 1px 3px 1px rgba(60, 64, 67, 0.15);\n",
              "      fill: #174EA6;\n",
              "    }\n",
              "\n",
              "    [theme=dark] .colab-df-convert {\n",
              "      background-color: #3B4455;\n",
              "      fill: #D2E3FC;\n",
              "    }\n",
              "\n",
              "    [theme=dark] .colab-df-convert:hover {\n",
              "      background-color: #434B5C;\n",
              "      box-shadow: 0px 1px 3px 1px rgba(0, 0, 0, 0.15);\n",
              "      filter: drop-shadow(0px 1px 2px rgba(0, 0, 0, 0.3));\n",
              "      fill: #FFFFFF;\n",
              "    }\n",
              "  </style>\n",
              "\n",
              "      <script>\n",
              "        const buttonEl =\n",
              "          document.querySelector('#df-03bf65c1-dbd3-41ed-888e-1b4a0fef751b button.colab-df-convert');\n",
              "        buttonEl.style.display =\n",
              "          google.colab.kernel.accessAllowed ? 'block' : 'none';\n",
              "\n",
              "        async function convertToInteractive(key) {\n",
              "          const element = document.querySelector('#df-03bf65c1-dbd3-41ed-888e-1b4a0fef751b');\n",
              "          const dataTable =\n",
              "            await google.colab.kernel.invokeFunction('convertToInteractive',\n",
              "                                                     [key], {});\n",
              "          if (!dataTable) return;\n",
              "\n",
              "          const docLinkHtml = 'Like what you see? Visit the ' +\n",
              "            '<a target=\"_blank\" href=https://colab.research.google.com/notebooks/data_table.ipynb>data table notebook</a>'\n",
              "            + ' to learn more about interactive tables.';\n",
              "          element.innerHTML = '';\n",
              "          dataTable['output_type'] = 'display_data';\n",
              "          await google.colab.output.renderOutput(dataTable, element);\n",
              "          const docLink = document.createElement('div');\n",
              "          docLink.innerHTML = docLinkHtml;\n",
              "          element.appendChild(docLink);\n",
              "        }\n",
              "      </script>\n",
              "    </div>\n",
              "  </div>\n",
              "  "
            ]
          },
          "metadata": {},
          "execution_count": 5
        }
      ]
    },
    {
      "cell_type": "code",
      "source": [
        "coffee_df.describe"
      ],
      "metadata": {
        "colab": {
          "base_uri": "https://localhost:8080/"
        },
        "id": "W7GanyoAwHel",
        "outputId": "c91990bf-afbe-4076-a113-2de978857511"
      },
      "execution_count": 14,
      "outputs": [
        {
          "output_type": "execute_result",
          "data": {
            "text/plain": [
              "<bound method NDFrame.describe of           gov_dn_cd  brtc_nm signgu_nm adstrd_nm         de sex_se year_se  \\\n",
              "0        1111051500    서울특별시       종로구     청운효자동 2020-03-01      F      20   \n",
              "1        1111051500    서울특별시       종로구     청운효자동 2020-03-01      F      25   \n",
              "2        1111051500    서울특별시       종로구     청운효자동 2020-03-01      F      30   \n",
              "3        1111051500    서울특별시       종로구     청운효자동 2020-03-01      F      35   \n",
              "4        1111051500    서울특별시       종로구     청운효자동 2020-03-01      F      45   \n",
              "...             ...      ...       ...       ...        ...    ...     ...   \n",
              "2410310  5013062000  제주특별자치도      서귀포시       예래동 2020-05-30      X      xx   \n",
              "2410311  5013062000  제주특별자치도      서귀포시       예래동 2020-05-31      F      25   \n",
              "2410312  5013062000  제주특별자치도      서귀포시       예래동 2020-05-31      M      35   \n",
              "2410313  5013062000  제주특별자치도      서귀포시       예래동 2020-05-31      M      40   \n",
              "2410314  5013062000  제주특별자치도      서귀포시       예래동 2020-05-31      X      xx   \n",
              "\n",
              "         cnsmr_popltn_co  \n",
              "0              91.445718  \n",
              "1              83.825241  \n",
              "2              53.343335  \n",
              "3              60.963812  \n",
              "4              30.481906  \n",
              "...                  ...  \n",
              "2410310        22.861429  \n",
              "2410311        22.861429  \n",
              "2410312        38.102382  \n",
              "2410313        22.861429  \n",
              "2410314        22.861429  \n",
              "\n",
              "[2410315 rows x 8 columns]>"
            ]
          },
          "metadata": {},
          "execution_count": 14
        }
      ]
    },
    {
      "cell_type": "code",
      "source": [
        "# 데이터 전처리 : 법인 및 외국인(X) 제외, 서울특별시만 추출\n",
        "idx_ = coffee_df[coffee_df['sex_se']=='X'].index\n",
        "coffee_df.drop(idx_) #외국인 데이터 생략\n",
        "df_seoul = coffee_df[coffee_df['brtc_nm']=='서울특별시'] #서울시 데이터만 고려"
      ],
      "metadata": {
        "id": "kaNaheCswdHq"
      },
      "execution_count": 15,
      "outputs": []
    },
    {
      "cell_type": "code",
      "metadata": {
        "id": "73e1JEB8K_cP"
      },
      "source": [
        "import datetime\n",
        "pd.set_option('mode.chained_assignment',  None)\n",
        "df_seoul['de']=pd.to_datetime(df_seoul['de'].astype(str), format='%Y-%m-%d')"
      ],
      "execution_count": 20,
      "outputs": []
    },
    {
      "cell_type": "code",
      "metadata": {
        "colab": {
          "base_uri": "https://localhost:8080/"
        },
        "id": "ZBO9UQ_Uv2Po",
        "outputId": "ec2a1ad1-51d0-4ab1-d91c-fdd20bf1778a"
      },
      "source": [
        "df_seoul.groupby(\"adstrd_nm\")[\"cnsmr_popltn_co\"].sum().sort_values(ascending=False)"
      ],
      "execution_count": 23,
      "outputs": [
        {
          "output_type": "execute_result",
          "data": {
            "text/plain": [
              "adstrd_nm\n",
              "소공동            2.604429e+07\n",
              "역삼1동           3.192134e+06\n",
              "종로1.2.3.4가동    2.024608e+06\n",
              "서교동            1.999583e+06\n",
              "여의동            1.983389e+06\n",
              "                   ...     \n",
              "성현동            2.202318e+03\n",
              "번2동            1.920360e+03\n",
              "수색동            1.295481e+03\n",
              "창신3동           1.181174e+03\n",
              "면목5동           2.057529e+02\n",
              "Name: cnsmr_popltn_co, Length: 418, dtype: float64"
            ]
          },
          "metadata": {},
          "execution_count": 23
        }
      ]
    },
    {
      "cell_type": "code",
      "metadata": {
        "colab": {
          "base_uri": "https://localhost:8080/"
        },
        "id": "lCMkKJ9RzUTx",
        "outputId": "2fb792f9-142f-4698-e7c5-571592d433ba"
      },
      "source": [
        "df_seoul[df_seoul['sex_se']==\"F\"].groupby('adstrd_nm')['cnsmr_popltn_co'].sum().sort_values(ascending=False)"
      ],
      "execution_count": 24,
      "outputs": [
        {
          "output_type": "execute_result",
          "data": {
            "text/plain": [
              "adstrd_nm\n",
              "소공동            1.247528e+07\n",
              "역삼1동           1.456822e+06\n",
              "서교동            1.035234e+06\n",
              "종로1.2.3.4가동    8.890276e+05\n",
              "여의동            7.193349e+05\n",
              "                   ...     \n",
              "번2동            9.373186e+02\n",
              "성현동            6.934634e+02\n",
              "수색동            5.105719e+02\n",
              "창신3동           1.600300e+02\n",
              "면목5동           9.144572e+01\n",
              "Name: cnsmr_popltn_co, Length: 418, dtype: float64"
            ]
          },
          "metadata": {},
          "execution_count": 24
        }
      ]
    },
    {
      "cell_type": "code",
      "metadata": {
        "colab": {
          "base_uri": "https://localhost:8080/"
        },
        "id": "-2HC_dKZ2tam",
        "outputId": "69387612-0a3f-4100-98eb-830e39886afd"
      },
      "source": [
        "df_seoul[df_seoul['sex_se']==\"M\"].groupby('adstrd_nm')['cnsmr_popltn_co'].sum().sort_values(ascending=False)"
      ],
      "execution_count": 25,
      "outputs": [
        {
          "output_type": "execute_result",
          "data": {
            "text/plain": [
              "adstrd_nm\n",
              "소공동            1.149790e+07\n",
              "역삼1동           1.400819e+06\n",
              "여의동            9.981910e+05\n",
              "종로1.2.3.4가동    9.417842e+05\n",
              "서교동            8.134630e+05\n",
              "                   ...     \n",
              "성현동            1.310722e+03\n",
              "창신3동           1.021144e+03\n",
              "번2동            9.830415e+02\n",
              "수색동            5.715357e+02\n",
              "면목5동           1.143071e+02\n",
              "Name: cnsmr_popltn_co, Length: 418, dtype: float64"
            ]
          },
          "metadata": {},
          "execution_count": 25
        }
      ]
    },
    {
      "cell_type": "code",
      "metadata": {
        "colab": {
          "base_uri": "https://localhost:8080/"
        },
        "id": "lOXyITsC28KD",
        "outputId": "12d0248d-54aa-43bd-cf18-f8d17f0f0036"
      },
      "source": [
        "df_seoul.groupby(['adstrd_nm','year_se'])['cnsmr_popltn_co'].sum().sort_values(ascending=False)"
      ],
      "execution_count": 26,
      "outputs": [
        {
          "output_type": "execute_result",
          "data": {
            "text/plain": [
              "adstrd_nm  year_se\n",
              "소공동        25         5.833307e+06\n",
              "           30         3.997664e+06\n",
              "           20         3.720058e+06\n",
              "           35         3.047680e+06\n",
              "           40         2.062360e+06\n",
              "                          ...     \n",
              "대림1동       65         2.286143e+01\n",
              "당산2동       00         2.286143e+01\n",
              "청림동        60         2.286143e+01\n",
              "송파2동       70         2.286143e+01\n",
              "사당4동       65         2.286143e+01\n",
              "Name: cnsmr_popltn_co, Length: 5359, dtype: float64"
            ]
          },
          "metadata": {},
          "execution_count": 26
        }
      ]
    },
    {
      "cell_type": "code",
      "metadata": {
        "colab": {
          "base_uri": "https://localhost:8080/"
        },
        "id": "YQTk6hSeNBq8",
        "outputId": "d60c2772-01e4-42db-cc3b-49faf3d68de4"
      },
      "source": [
        "print(df_seoul['de'].dt.month)"
      ],
      "execution_count": 27,
      "outputs": [
        {
          "output_type": "stream",
          "name": "stdout",
          "text": [
            "0         3\n",
            "1         3\n",
            "2         3\n",
            "3         3\n",
            "4         3\n",
            "         ..\n",
            "639016    5\n",
            "639017    5\n",
            "639018    5\n",
            "639019    5\n",
            "639020    5\n",
            "Name: de, Length: 639021, dtype: int64\n"
          ]
        }
      ]
    },
    {
      "cell_type": "code",
      "source": [
        ""
      ],
      "metadata": {
        "id": "SPb_SuLL1B5R"
      },
      "execution_count": null,
      "outputs": []
    }
  ]
}