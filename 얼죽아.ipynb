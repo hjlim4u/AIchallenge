{
 "cells": [
  {
   "cell_type": "code",
   "execution_count": 3,
   "metadata": {
    "colab": {
     "base_uri": "https://localhost:8080/"
    },
    "id": "8mo7Wea19LDL",
    "outputId": "0608d83a-e960-4062-e26d-f23c88df1da5"
   },
   "outputs": [],
   "source": [
    "import pandas as pd\n",
    "import numpy as np\n",
    "import matplotlib.pyplot as plt\n",
    "\n",
    "import seaborn as sns\n",
    "\n",
    "%matplotlib inline\n",
    "\n",
    "import platform\n",
    "\n",
    "path = \"c:/Windows/Fonts/malgun.ttf\"\n",
    "from matplotlib import font_manager, rc\n",
    "if platform.system() == 'Darwin':\n",
    "    rc('font', family='AppleGothic')\n",
    "elif platform.system() == 'Windows':\n",
    "    font_name = font_manager.FontProperties(fname=path).get_name()\n",
    "    rc('font', family=font_name)\n",
    "else:\n",
    "    print('Unknown system... sorry~~~~') \n",
    "coffee_df=pd.read_csv(\"행정동별_커피분야_소비인구(2020.03_2020.05).csv\")\n",
    "\n"
   ]
  },
  {
   "cell_type": "code",
   "execution_count": 4,
   "metadata": {
    "colab": {
     "base_uri": "https://localhost:8080/"
    },
    "id": "qsrOPUTpv8_y",
    "outputId": "9f569280-4c9f-4cd5-9e48-9232fe202a02"
   },
   "outputs": [
    {
     "data": {
      "text/plain": [
       "(2410315, 8)"
      ]
     },
     "execution_count": 4,
     "metadata": {},
     "output_type": "execute_result"
    }
   ],
   "source": [
    "coffee_df.shape"
   ]
  },
  {
   "cell_type": "code",
   "execution_count": 5,
   "metadata": {
    "colab": {
     "base_uri": "https://localhost:8080/"
    },
    "id": "Adb2kKS_9mzk",
    "outputId": "31e93daf-5121-4c0d-9d19-a20f3bd5e780"
   },
   "outputs": [
    {
     "data": {
      "text/plain": [
       "<bound method DataFrame.info of           gov_dn_cd  brtc_nm signgu_nm adstrd_nm        de sex_se year_se  \\\n",
       "0        1111051500    서울특별시       종로구     청운효자동  20200301      F      20   \n",
       "1        1111051500    서울특별시       종로구     청운효자동  20200301      F      25   \n",
       "2        1111051500    서울특별시       종로구     청운효자동  20200301      F      30   \n",
       "3        1111051500    서울특별시       종로구     청운효자동  20200301      F      35   \n",
       "4        1111051500    서울특별시       종로구     청운효자동  20200301      F      45   \n",
       "...             ...      ...       ...       ...       ...    ...     ...   \n",
       "2410310  5013062000  제주특별자치도      서귀포시       예래동  20200530      X      xx   \n",
       "2410311  5013062000  제주특별자치도      서귀포시       예래동  20200531      F      25   \n",
       "2410312  5013062000  제주특별자치도      서귀포시       예래동  20200531      M      35   \n",
       "2410313  5013062000  제주특별자치도      서귀포시       예래동  20200531      M      40   \n",
       "2410314  5013062000  제주특별자치도      서귀포시       예래동  20200531      X      xx   \n",
       "\n",
       "         cnsmr_popltn_co  \n",
       "0              91.445718  \n",
       "1              83.825241  \n",
       "2              53.343335  \n",
       "3              60.963812  \n",
       "4              30.481906  \n",
       "...                  ...  \n",
       "2410310        22.861429  \n",
       "2410311        22.861429  \n",
       "2410312        38.102382  \n",
       "2410313        22.861429  \n",
       "2410314        22.861429  \n",
       "\n",
       "[2410315 rows x 8 columns]>"
      ]
     },
     "execution_count": 5,
     "metadata": {},
     "output_type": "execute_result"
    }
   ],
   "source": [
    "coffee_df.info"
   ]
  },
  {
   "cell_type": "code",
   "execution_count": 6,
   "metadata": {
    "colab": {
     "base_uri": "https://localhost:8080/"
    },
    "id": "D-1HRT-Vv51e",
    "outputId": "65bef20e-d24c-4747-d457-033003ff32a0"
   },
   "outputs": [
    {
     "data": {
      "text/plain": [
       "Index(['gov_dn_cd', 'brtc_nm', 'signgu_nm', 'adstrd_nm', 'de', 'sex_se',\n",
       "       'year_se', 'cnsmr_popltn_co'],\n",
       "      dtype='object')"
      ]
     },
     "execution_count": 6,
     "metadata": {},
     "output_type": "execute_result"
    }
   ],
   "source": [
    "coffee_df.columns"
   ]
  },
  {
   "cell_type": "code",
   "execution_count": 7,
   "metadata": {
    "colab": {
     "base_uri": "https://localhost:8080/",
     "height": 206
    },
    "id": "lfnKqFXD9nhn",
    "outputId": "05a1bafd-fba4-4e33-d987-c32282d36b26"
   },
   "outputs": [
    {
     "data": {
      "text/html": [
       "<div>\n",
       "<style scoped>\n",
       "    .dataframe tbody tr th:only-of-type {\n",
       "        vertical-align: middle;\n",
       "    }\n",
       "\n",
       "    .dataframe tbody tr th {\n",
       "        vertical-align: top;\n",
       "    }\n",
       "\n",
       "    .dataframe thead th {\n",
       "        text-align: right;\n",
       "    }\n",
       "</style>\n",
       "<table border=\"1\" class=\"dataframe\">\n",
       "  <thead>\n",
       "    <tr style=\"text-align: right;\">\n",
       "      <th></th>\n",
       "      <th>gov_dn_cd</th>\n",
       "      <th>brtc_nm</th>\n",
       "      <th>signgu_nm</th>\n",
       "      <th>adstrd_nm</th>\n",
       "      <th>de</th>\n",
       "      <th>sex_se</th>\n",
       "      <th>year_se</th>\n",
       "      <th>cnsmr_popltn_co</th>\n",
       "    </tr>\n",
       "  </thead>\n",
       "  <tbody>\n",
       "    <tr>\n",
       "      <th>0</th>\n",
       "      <td>1111051500</td>\n",
       "      <td>서울특별시</td>\n",
       "      <td>종로구</td>\n",
       "      <td>청운효자동</td>\n",
       "      <td>20200301</td>\n",
       "      <td>F</td>\n",
       "      <td>20</td>\n",
       "      <td>91.445718</td>\n",
       "    </tr>\n",
       "    <tr>\n",
       "      <th>1</th>\n",
       "      <td>1111051500</td>\n",
       "      <td>서울특별시</td>\n",
       "      <td>종로구</td>\n",
       "      <td>청운효자동</td>\n",
       "      <td>20200301</td>\n",
       "      <td>F</td>\n",
       "      <td>25</td>\n",
       "      <td>83.825241</td>\n",
       "    </tr>\n",
       "    <tr>\n",
       "      <th>2</th>\n",
       "      <td>1111051500</td>\n",
       "      <td>서울특별시</td>\n",
       "      <td>종로구</td>\n",
       "      <td>청운효자동</td>\n",
       "      <td>20200301</td>\n",
       "      <td>F</td>\n",
       "      <td>30</td>\n",
       "      <td>53.343335</td>\n",
       "    </tr>\n",
       "    <tr>\n",
       "      <th>3</th>\n",
       "      <td>1111051500</td>\n",
       "      <td>서울특별시</td>\n",
       "      <td>종로구</td>\n",
       "      <td>청운효자동</td>\n",
       "      <td>20200301</td>\n",
       "      <td>F</td>\n",
       "      <td>35</td>\n",
       "      <td>60.963812</td>\n",
       "    </tr>\n",
       "    <tr>\n",
       "      <th>4</th>\n",
       "      <td>1111051500</td>\n",
       "      <td>서울특별시</td>\n",
       "      <td>종로구</td>\n",
       "      <td>청운효자동</td>\n",
       "      <td>20200301</td>\n",
       "      <td>F</td>\n",
       "      <td>45</td>\n",
       "      <td>30.481906</td>\n",
       "    </tr>\n",
       "  </tbody>\n",
       "</table>\n",
       "</div>"
      ],
      "text/plain": [
       "    gov_dn_cd brtc_nm signgu_nm adstrd_nm        de sex_se year_se  \\\n",
       "0  1111051500   서울특별시       종로구     청운효자동  20200301      F      20   \n",
       "1  1111051500   서울특별시       종로구     청운효자동  20200301      F      25   \n",
       "2  1111051500   서울특별시       종로구     청운효자동  20200301      F      30   \n",
       "3  1111051500   서울특별시       종로구     청운효자동  20200301      F      35   \n",
       "4  1111051500   서울특별시       종로구     청운효자동  20200301      F      45   \n",
       "\n",
       "   cnsmr_popltn_co  \n",
       "0        91.445718  \n",
       "1        83.825241  \n",
       "2        53.343335  \n",
       "3        60.963812  \n",
       "4        30.481906  "
      ]
     },
     "execution_count": 7,
     "metadata": {},
     "output_type": "execute_result"
    }
   ],
   "source": [
    "#3\n",
    "coffee_df.head()\n"
   ]
  },
  {
   "cell_type": "code",
   "execution_count": 8,
   "metadata": {
    "colab": {
     "base_uri": "https://localhost:8080/"
    },
    "id": "W7GanyoAwHel",
    "outputId": "c91990bf-afbe-4076-a113-2de978857511"
   },
   "outputs": [
    {
     "data": {
      "text/plain": [
       "<bound method NDFrame.describe of           gov_dn_cd  brtc_nm signgu_nm adstrd_nm        de sex_se year_se  \\\n",
       "0        1111051500    서울특별시       종로구     청운효자동  20200301      F      20   \n",
       "1        1111051500    서울특별시       종로구     청운효자동  20200301      F      25   \n",
       "2        1111051500    서울특별시       종로구     청운효자동  20200301      F      30   \n",
       "3        1111051500    서울특별시       종로구     청운효자동  20200301      F      35   \n",
       "4        1111051500    서울특별시       종로구     청운효자동  20200301      F      45   \n",
       "...             ...      ...       ...       ...       ...    ...     ...   \n",
       "2410310  5013062000  제주특별자치도      서귀포시       예래동  20200530      X      xx   \n",
       "2410311  5013062000  제주특별자치도      서귀포시       예래동  20200531      F      25   \n",
       "2410312  5013062000  제주특별자치도      서귀포시       예래동  20200531      M      35   \n",
       "2410313  5013062000  제주특별자치도      서귀포시       예래동  20200531      M      40   \n",
       "2410314  5013062000  제주특별자치도      서귀포시       예래동  20200531      X      xx   \n",
       "\n",
       "         cnsmr_popltn_co  \n",
       "0              91.445718  \n",
       "1              83.825241  \n",
       "2              53.343335  \n",
       "3              60.963812  \n",
       "4              30.481906  \n",
       "...                  ...  \n",
       "2410310        22.861429  \n",
       "2410311        22.861429  \n",
       "2410312        38.102382  \n",
       "2410313        22.861429  \n",
       "2410314        22.861429  \n",
       "\n",
       "[2410315 rows x 8 columns]>"
      ]
     },
     "execution_count": 8,
     "metadata": {},
     "output_type": "execute_result"
    }
   ],
   "source": [
    "coffee_df.describe"
   ]
  },
  {
   "cell_type": "code",
   "execution_count": 9,
   "metadata": {
    "id": "kaNaheCswdHq"
   },
   "outputs": [],
   "source": [
    "# 데이터 전처리 : 법인 및 외국인(X) 제외, 서울특별시만 추출\n",
    "idx_ = coffee_df[coffee_df['sex_se']=='X'].index\n",
    "coffee_df.drop(idx_) #외국인 데이터 생략\n",
    "df_seoul = coffee_df[coffee_df['brtc_nm']=='서울특별시'] #서울시 데이터만 고려"
   ]
  },
  {
   "cell_type": "code",
   "execution_count": 10,
   "metadata": {
    "id": "73e1JEB8K_cP"
   },
   "outputs": [],
   "source": [
    "import datetime\n",
    "pd.set_option('mode.chained_assignment',  None)\n",
    "df_seoul['de']=pd.to_datetime(df_seoul['de'].astype(str), format='%Y-%m-%d')"
   ]
  },
  {
   "cell_type": "code",
   "execution_count": 11,
   "metadata": {
    "colab": {
     "base_uri": "https://localhost:8080/",
     "height": 365
    },
    "id": "rfRKRoqUznes",
    "outputId": "a6a6c93c-5e65-4d2e-b9f7-845f7e8bcb1f"
   },
   "outputs": [],
   "source": [
    "#한글 깨지는 현상 방지\n",
    "f_path = \"C:/windows/fonts/malgun.ttf\"\n",
    "font_name = font_manager.FontProperties(fname = f_path).get_name()\n",
    "rc('font', family = font_name)"
   ]
  },
  {
   "cell_type": "code",
   "execution_count": 12,
   "metadata": {
    "colab": {
     "base_uri": "https://localhost:8080/"
    },
    "id": "ZBO9UQ_Uv2Po",
    "outputId": "ec2a1ad1-51d0-4ab1-d91c-fdd20bf1778a"
   },
   "outputs": [
    {
     "data": {
      "text/plain": [
       "adstrd_nm\n",
       "소공동            2.604429e+07\n",
       "역삼1동           3.192134e+06\n",
       "종로1.2.3.4가동    2.024608e+06\n",
       "서교동            1.999583e+06\n",
       "여의동            1.983389e+06\n",
       "                   ...     \n",
       "성현동            2.202318e+03\n",
       "번2동            1.920360e+03\n",
       "수색동            1.295481e+03\n",
       "창신3동           1.181174e+03\n",
       "면목5동           2.057529e+02\n",
       "Name: cnsmr_popltn_co, Length: 418, dtype: float64"
      ]
     },
     "execution_count": 12,
     "metadata": {},
     "output_type": "execute_result"
    }
   ],
   "source": [
    "#행정동별 커피소비인구 합계\n",
    "df_seoul.groupby(\"adstrd_nm\")[\"cnsmr_popltn_co\"].sum().sort_values(ascending=False)"
   ]
  },
  {
   "cell_type": "code",
   "execution_count": 13,
   "metadata": {
    "colab": {
     "base_uri": "https://localhost:8080/"
    },
    "id": "lCMkKJ9RzUTx",
    "outputId": "2fb792f9-142f-4698-e7c5-571592d433ba"
   },
   "outputs": [
    {
     "data": {
      "text/plain": [
       "adstrd_nm\n",
       "소공동            1.247528e+07\n",
       "역삼1동           1.456822e+06\n",
       "서교동            1.035234e+06\n",
       "종로1.2.3.4가동    8.890276e+05\n",
       "여의동            7.193349e+05\n",
       "                   ...     \n",
       "번2동            9.373186e+02\n",
       "성현동            6.934634e+02\n",
       "수색동            5.105719e+02\n",
       "창신3동           1.600300e+02\n",
       "면목5동           9.144572e+01\n",
       "Name: cnsmr_popltn_co, Length: 418, dtype: float64"
      ]
     },
     "execution_count": 13,
     "metadata": {},
     "output_type": "execute_result"
    }
   ],
   "source": [
    "#행정동별 여성 커피소비인구 합계\n",
    "df_seoul[df_seoul['sex_se']==\"F\"].groupby('adstrd_nm')['cnsmr_popltn_co'].sum().sort_values(ascending=False)"
   ]
  },
  {
   "cell_type": "code",
   "execution_count": 14,
   "metadata": {
    "colab": {
     "base_uri": "https://localhost:8080/"
    },
    "id": "-2HC_dKZ2tam",
    "outputId": "69387612-0a3f-4100-98eb-830e39886afd"
   },
   "outputs": [
    {
     "data": {
      "text/plain": [
       "adstrd_nm\n",
       "소공동            1.149790e+07\n",
       "역삼1동           1.400819e+06\n",
       "여의동            9.981910e+05\n",
       "종로1.2.3.4가동    9.417842e+05\n",
       "서교동            8.134630e+05\n",
       "                   ...     \n",
       "성현동            1.310722e+03\n",
       "창신3동           1.021144e+03\n",
       "번2동            9.830415e+02\n",
       "수색동            5.715357e+02\n",
       "면목5동           1.143071e+02\n",
       "Name: cnsmr_popltn_co, Length: 418, dtype: float64"
      ]
     },
     "execution_count": 14,
     "metadata": {},
     "output_type": "execute_result"
    }
   ],
   "source": [
    "#행정동별 남성 커피소비인구 합계\n",
    "df_seoul[df_seoul['sex_se']==\"M\"].groupby('adstrd_nm')['cnsmr_popltn_co'].sum().sort_values(ascending=False)"
   ]
  },
  {
   "cell_type": "code",
   "execution_count": 15,
   "metadata": {
    "colab": {
     "base_uri": "https://localhost:8080/"
    },
    "id": "lOXyITsC28KD",
    "outputId": "12d0248d-54aa-43bd-cf18-f8d17f0f0036"
   },
   "outputs": [
    {
     "data": {
      "text/plain": [
       "adstrd_nm  year_se\n",
       "소공동        25         5.833307e+06\n",
       "           30         3.997664e+06\n",
       "           20         3.720058e+06\n",
       "           35         3.047680e+06\n",
       "           40         2.062360e+06\n",
       "                          ...     \n",
       "대림1동       65         2.286143e+01\n",
       "당산2동       00         2.286143e+01\n",
       "청림동        60         2.286143e+01\n",
       "송파2동       70         2.286143e+01\n",
       "사당4동       65         2.286143e+01\n",
       "Name: cnsmr_popltn_co, Length: 5359, dtype: float64"
      ]
     },
     "execution_count": 15,
     "metadata": {},
     "output_type": "execute_result"
    }
   ],
   "source": [
    "#행정동/연령대별 커피소비인구 합계\n",
    "df_seoul.groupby(['adstrd_nm','year_se'])['cnsmr_popltn_co'].sum().sort_values(ascending=False)"
   ]
  },
  {
   "cell_type": "code",
   "execution_count": 16,
   "metadata": {
    "colab": {
     "base_uri": "https://localhost:8080/"
    },
    "id": "YQTk6hSeNBq8",
    "outputId": "d60c2772-01e4-42db-cc3b-49faf3d68de4"
   },
   "outputs": [
    {
     "name": "stdout",
     "output_type": "stream",
     "text": [
      "0         3\n",
      "1         3\n",
      "2         3\n",
      "3         3\n",
      "4         3\n",
      "         ..\n",
      "639016    5\n",
      "639017    5\n",
      "639018    5\n",
      "639019    5\n",
      "639020    5\n",
      "Name: de, Length: 639021, dtype: int64\n"
     ]
    }
   ],
   "source": [
    "print(df_seoul['de'].dt.month)"
   ]
  },
  {
   "cell_type": "code",
   "execution_count": 17,
   "metadata": {
    "colab": {
     "base_uri": "https://localhost:8080/",
     "height": 1000
    },
    "id": "qWOwFUiZvWt4",
    "outputId": "60e0726c-7fce-49dc-dbab-59eaf121400f"
   },
   "outputs": [
    {
     "data": {
      "text/plain": [
       "<AxesSubplot:xlabel='signgu_nm'>"
      ]
     },
     "execution_count": 17,
     "metadata": {},
     "output_type": "execute_result"
    },
    {
     "data": {
      "image/png": "[encoded data removed]",
      "text/plain": [
       "<Figure size 432x288 with 1 Axes>"
      ]
     },
     "metadata": {
      "needs_background": "light"
     },
     "output_type": "display_data"
    }
   ],
   "source": [
    "#행정구별 커피소비인구\n",
    "df_seoul.groupby('signgu_nm')['cnsmr_popltn_co'].mean().sort_values(ascending=False).plot(kind='bar')"
   ]
  },
  {
   "cell_type": "code",
   "execution_count": 18,
   "metadata": {
    "id": "SPb_SuLL1B5R"
   },
   "outputs": [
    {
     "data": {
      "text/plain": [
       "<AxesSubplot:xlabel='year_se'>"
      ]
     },
     "execution_count": 18,
     "metadata": {},
     "output_type": "execute_result"
    },
    {
     "data": {
      "image/png": "[encoded data removed]",
      "text/plain": [
       "<Figure size 432x288 with 1 Axes>"
      ]
     },
     "metadata": {
      "needs_background": "light"
     },
     "output_type": "display_data"
    }
   ],
   "source": [
    "#연령대별 커피 소비인구\n",
    "df_seoul.groupby(['year_se'])['cnsmr_popltn_co'].sum().sort_values(ascending=False).plot(kind='bar')"
   ]
  },
  {
   "cell_type": "code",
   "execution_count": 19,
   "metadata": {},
   "outputs": [
    {
     "data": {
      "text/plain": [
       "<AxesSubplot:xlabel='de'>"
      ]
     },
     "execution_count": 19,
     "metadata": {},
     "output_type": "execute_result"
    },
    {
     "data": {
      "image/png": "[encoded data removed]",
      "text/plain": [
       "<Figure size 432x288 with 1 Axes>"
      ]
     },
     "metadata": {
      "needs_background": "light"
     },
     "output_type": "display_data"
    }
   ],
   "source": [
    "#월별 커피 소비인구 변화\n",
    "df_seoul.groupby('de')['cnsmr_popltn_co'].sum().plot(kind='line')"
   ]
  },
  {
   "cell_type": "code",
   "execution_count": 21,
   "metadata": {},
   "outputs": [
    {
     "data": {
      "text/html": [
       "<div>\n",
       "<style scoped>\n",
       "    .dataframe tbody tr th:only-of-type {\n",
       "        vertical-align: middle;\n",
       "    }\n",
       "\n",
       "    .dataframe tbody tr th {\n",
       "        vertical-align: top;\n",
       "    }\n",
       "\n",
       "    .dataframe thead th {\n",
       "        text-align: right;\n",
       "    }\n",
       "</style>\n",
       "<table border=\"1\" class=\"dataframe\">\n",
       "  <thead>\n",
       "    <tr style=\"text-align: right;\">\n",
       "      <th>year_se</th>\n",
       "      <th>00</th>\n",
       "      <th>15</th>\n",
       "      <th>20</th>\n",
       "      <th>25</th>\n",
       "      <th>30</th>\n",
       "      <th>35</th>\n",
       "      <th>40</th>\n",
       "      <th>45</th>\n",
       "      <th>50</th>\n",
       "      <th>55</th>\n",
       "      <th>60</th>\n",
       "      <th>65</th>\n",
       "      <th>70</th>\n",
       "      <th>xx</th>\n",
       "    </tr>\n",
       "    <tr>\n",
       "      <th>signgu_nm</th>\n",
       "      <th></th>\n",
       "      <th></th>\n",
       "      <th></th>\n",
       "      <th></th>\n",
       "      <th></th>\n",
       "      <th></th>\n",
       "      <th></th>\n",
       "      <th></th>\n",
       "      <th></th>\n",
       "      <th></th>\n",
       "      <th></th>\n",
       "      <th></th>\n",
       "      <th></th>\n",
       "      <th></th>\n",
       "    </tr>\n",
       "  </thead>\n",
       "  <tbody>\n",
       "    <tr>\n",
       "      <th>강남구</th>\n",
       "      <td>26.170321</td>\n",
       "      <td>109.348672</td>\n",
       "      <td>379.145233</td>\n",
       "      <td>650.650274</td>\n",
       "      <td>461.112042</td>\n",
       "      <td>329.080086</td>\n",
       "      <td>226.439640</td>\n",
       "      <td>210.433900</td>\n",
       "      <td>151.959436</td>\n",
       "      <td>99.284358</td>\n",
       "      <td>64.225901</td>\n",
       "      <td>40.792235</td>\n",
       "      <td>39.291255</td>\n",
       "      <td>683.208101</td>\n",
       "    </tr>\n",
       "    <tr>\n",
       "      <th>강동구</th>\n",
       "      <td>28.825281</td>\n",
       "      <td>60.819348</td>\n",
       "      <td>123.586082</td>\n",
       "      <td>158.037287</td>\n",
       "      <td>108.386048</td>\n",
       "      <td>92.894773</td>\n",
       "      <td>76.744757</td>\n",
       "      <td>76.264491</td>\n",
       "      <td>62.293519</td>\n",
       "      <td>47.137397</td>\n",
       "      <td>36.821211</td>\n",
       "      <td>28.293046</td>\n",
       "      <td>25.924205</td>\n",
       "      <td>95.162633</td>\n",
       "    </tr>\n",
       "    <tr>\n",
       "      <th>강북구</th>\n",
       "      <td>25.792382</td>\n",
       "      <td>53.531641</td>\n",
       "      <td>130.526030</td>\n",
       "      <td>139.752511</td>\n",
       "      <td>90.077265</td>\n",
       "      <td>73.061900</td>\n",
       "      <td>62.940724</td>\n",
       "      <td>65.514467</td>\n",
       "      <td>56.796723</td>\n",
       "      <td>47.390359</td>\n",
       "      <td>33.699041</td>\n",
       "      <td>28.070038</td>\n",
       "      <td>26.138234</td>\n",
       "      <td>60.033405</td>\n",
       "    </tr>\n",
       "    <tr>\n",
       "      <th>강서구</th>\n",
       "      <td>24.730603</td>\n",
       "      <td>66.612351</td>\n",
       "      <td>169.622924</td>\n",
       "      <td>261.091930</td>\n",
       "      <td>185.905051</td>\n",
       "      <td>155.999832</td>\n",
       "      <td>121.305839</td>\n",
       "      <td>110.411020</td>\n",
       "      <td>86.742749</td>\n",
       "      <td>62.148886</td>\n",
       "      <td>43.385740</td>\n",
       "      <td>33.221123</td>\n",
       "      <td>28.557347</td>\n",
       "      <td>192.743623</td>\n",
       "    </tr>\n",
       "    <tr>\n",
       "      <th>관악구</th>\n",
       "      <td>22.861429</td>\n",
       "      <td>59.311092</td>\n",
       "      <td>215.620876</td>\n",
       "      <td>315.901196</td>\n",
       "      <td>167.406757</td>\n",
       "      <td>102.242598</td>\n",
       "      <td>71.953395</td>\n",
       "      <td>65.670735</td>\n",
       "      <td>66.362243</td>\n",
       "      <td>51.397831</td>\n",
       "      <td>37.543547</td>\n",
       "      <td>27.180957</td>\n",
       "      <td>25.628866</td>\n",
       "      <td>105.787103</td>\n",
       "    </tr>\n",
       "    <tr>\n",
       "      <th>광진구</th>\n",
       "      <td>25.267896</td>\n",
       "      <td>74.156873</td>\n",
       "      <td>254.423026</td>\n",
       "      <td>258.880448</td>\n",
       "      <td>140.892508</td>\n",
       "      <td>97.692685</td>\n",
       "      <td>72.456131</td>\n",
       "      <td>78.224129</td>\n",
       "      <td>70.025240</td>\n",
       "      <td>51.176010</td>\n",
       "      <td>36.105805</td>\n",
       "      <td>26.856406</td>\n",
       "      <td>26.447536</td>\n",
       "      <td>136.668391</td>\n",
       "    </tr>\n",
       "    <tr>\n",
       "      <th>구로구</th>\n",
       "      <td>25.242828</td>\n",
       "      <td>49.234624</td>\n",
       "      <td>139.298760</td>\n",
       "      <td>220.402854</td>\n",
       "      <td>172.277200</td>\n",
       "      <td>149.293096</td>\n",
       "      <td>114.169508</td>\n",
       "      <td>107.752397</td>\n",
       "      <td>76.292974</td>\n",
       "      <td>56.323597</td>\n",
       "      <td>39.817348</td>\n",
       "      <td>31.426416</td>\n",
       "      <td>27.676566</td>\n",
       "      <td>211.429051</td>\n",
       "    </tr>\n",
       "    <tr>\n",
       "      <th>금천구</th>\n",
       "      <td>22.861429</td>\n",
       "      <td>42.143724</td>\n",
       "      <td>150.821930</td>\n",
       "      <td>317.113487</td>\n",
       "      <td>270.935695</td>\n",
       "      <td>246.867038</td>\n",
       "      <td>181.283157</td>\n",
       "      <td>157.692519</td>\n",
       "      <td>97.878498</td>\n",
       "      <td>77.816229</td>\n",
       "      <td>57.449427</td>\n",
       "      <td>37.344545</td>\n",
       "      <td>32.733410</td>\n",
       "      <td>371.969323</td>\n",
       "    </tr>\n",
       "    <tr>\n",
       "      <th>노원구</th>\n",
       "      <td>26.828253</td>\n",
       "      <td>89.728913</td>\n",
       "      <td>225.359342</td>\n",
       "      <td>181.837078</td>\n",
       "      <td>107.370629</td>\n",
       "      <td>88.949634</td>\n",
       "      <td>87.557777</td>\n",
       "      <td>109.661941</td>\n",
       "      <td>90.669071</td>\n",
       "      <td>60.009090</td>\n",
       "      <td>37.439267</td>\n",
       "      <td>27.703808</td>\n",
       "      <td>26.311028</td>\n",
       "      <td>91.465141</td>\n",
       "    </tr>\n",
       "    <tr>\n",
       "      <th>도봉구</th>\n",
       "      <td>23.813989</td>\n",
       "      <td>45.929976</td>\n",
       "      <td>96.995666</td>\n",
       "      <td>101.762994</td>\n",
       "      <td>71.246290</td>\n",
       "      <td>63.592895</td>\n",
       "      <td>50.623527</td>\n",
       "      <td>57.057416</td>\n",
       "      <td>55.314655</td>\n",
       "      <td>45.839551</td>\n",
       "      <td>35.303024</td>\n",
       "      <td>28.244927</td>\n",
       "      <td>29.044902</td>\n",
       "      <td>55.520614</td>\n",
       "    </tr>\n",
       "    <tr>\n",
       "      <th>동대문구</th>\n",
       "      <td>25.909620</td>\n",
       "      <td>54.847515</td>\n",
       "      <td>184.261409</td>\n",
       "      <td>195.827262</td>\n",
       "      <td>120.844445</td>\n",
       "      <td>103.515085</td>\n",
       "      <td>81.094479</td>\n",
       "      <td>77.981428</td>\n",
       "      <td>66.148606</td>\n",
       "      <td>52.638656</td>\n",
       "      <td>40.483781</td>\n",
       "      <td>30.628454</td>\n",
       "      <td>28.114115</td>\n",
       "      <td>132.840034</td>\n",
       "    </tr>\n",
       "    <tr>\n",
       "      <th>동작구</th>\n",
       "      <td>27.499980</td>\n",
       "      <td>59.367307</td>\n",
       "      <td>217.085954</td>\n",
       "      <td>263.665163</td>\n",
       "      <td>146.630261</td>\n",
       "      <td>102.807369</td>\n",
       "      <td>79.102912</td>\n",
       "      <td>82.376905</td>\n",
       "      <td>84.654075</td>\n",
       "      <td>65.568082</td>\n",
       "      <td>43.401614</td>\n",
       "      <td>29.871104</td>\n",
       "      <td>28.050301</td>\n",
       "      <td>100.065394</td>\n",
       "    </tr>\n",
       "    <tr>\n",
       "      <th>마포구</th>\n",
       "      <td>36.003990</td>\n",
       "      <td>114.217368</td>\n",
       "      <td>386.647089</td>\n",
       "      <td>531.615833</td>\n",
       "      <td>319.240772</td>\n",
       "      <td>208.304294</td>\n",
       "      <td>148.773856</td>\n",
       "      <td>134.860388</td>\n",
       "      <td>101.729795</td>\n",
       "      <td>69.052293</td>\n",
       "      <td>44.031508</td>\n",
       "      <td>30.998088</td>\n",
       "      <td>30.573941</td>\n",
       "      <td>339.739723</td>\n",
       "    </tr>\n",
       "    <tr>\n",
       "      <th>서대문구</th>\n",
       "      <td>23.623477</td>\n",
       "      <td>77.889351</td>\n",
       "      <td>224.414354</td>\n",
       "      <td>229.412456</td>\n",
       "      <td>122.872365</td>\n",
       "      <td>99.253839</td>\n",
       "      <td>83.025110</td>\n",
       "      <td>86.304407</td>\n",
       "      <td>80.645195</td>\n",
       "      <td>61.499330</td>\n",
       "      <td>43.861722</td>\n",
       "      <td>30.124696</td>\n",
       "      <td>33.632680</td>\n",
       "      <td>128.504820</td>\n",
       "    </tr>\n",
       "    <tr>\n",
       "      <th>서초구</th>\n",
       "      <td>26.671668</td>\n",
       "      <td>66.033672</td>\n",
       "      <td>236.319902</td>\n",
       "      <td>388.181670</td>\n",
       "      <td>276.433274</td>\n",
       "      <td>207.912286</td>\n",
       "      <td>153.357745</td>\n",
       "      <td>146.731479</td>\n",
       "      <td>116.415813</td>\n",
       "      <td>82.643901</td>\n",
       "      <td>56.799172</td>\n",
       "      <td>40.793898</td>\n",
       "      <td>38.250954</td>\n",
       "      <td>364.206548</td>\n",
       "    </tr>\n",
       "    <tr>\n",
       "      <th>성동구</th>\n",
       "      <td>27.624227</td>\n",
       "      <td>53.901370</td>\n",
       "      <td>204.383429</td>\n",
       "      <td>270.574543</td>\n",
       "      <td>162.787177</td>\n",
       "      <td>116.053041</td>\n",
       "      <td>82.568191</td>\n",
       "      <td>79.178455</td>\n",
       "      <td>68.005341</td>\n",
       "      <td>51.580636</td>\n",
       "      <td>36.200892</td>\n",
       "      <td>27.451035</td>\n",
       "      <td>25.725501</td>\n",
       "      <td>198.503243</td>\n",
       "    </tr>\n",
       "    <tr>\n",
       "      <th>성북구</th>\n",
       "      <td>26.248308</td>\n",
       "      <td>58.396914</td>\n",
       "      <td>169.656786</td>\n",
       "      <td>154.952089</td>\n",
       "      <td>90.075571</td>\n",
       "      <td>73.349359</td>\n",
       "      <td>63.927953</td>\n",
       "      <td>67.504767</td>\n",
       "      <td>57.042682</td>\n",
       "      <td>47.358529</td>\n",
       "      <td>33.409070</td>\n",
       "      <td>26.499777</td>\n",
       "      <td>27.447203</td>\n",
       "      <td>81.367750</td>\n",
       "    </tr>\n",
       "    <tr>\n",
       "      <th>송파구</th>\n",
       "      <td>25.655604</td>\n",
       "      <td>56.108239</td>\n",
       "      <td>154.002998</td>\n",
       "      <td>238.358233</td>\n",
       "      <td>170.936552</td>\n",
       "      <td>135.983207</td>\n",
       "      <td>107.235671</td>\n",
       "      <td>100.697357</td>\n",
       "      <td>78.499882</td>\n",
       "      <td>60.734070</td>\n",
       "      <td>44.930207</td>\n",
       "      <td>35.319992</td>\n",
       "      <td>33.317659</td>\n",
       "      <td>186.860728</td>\n",
       "    </tr>\n",
       "    <tr>\n",
       "      <th>양천구</th>\n",
       "      <td>28.856951</td>\n",
       "      <td>77.526280</td>\n",
       "      <td>127.117096</td>\n",
       "      <td>126.405177</td>\n",
       "      <td>89.383673</td>\n",
       "      <td>80.584758</td>\n",
       "      <td>82.488991</td>\n",
       "      <td>98.528278</td>\n",
       "      <td>78.593551</td>\n",
       "      <td>49.618984</td>\n",
       "      <td>36.780463</td>\n",
       "      <td>29.114644</td>\n",
       "      <td>26.077410</td>\n",
       "      <td>109.992747</td>\n",
       "    </tr>\n",
       "    <tr>\n",
       "      <th>영등포구</th>\n",
       "      <td>23.950069</td>\n",
       "      <td>56.060242</td>\n",
       "      <td>204.664225</td>\n",
       "      <td>378.151623</td>\n",
       "      <td>305.188852</td>\n",
       "      <td>260.471589</td>\n",
       "      <td>194.422750</td>\n",
       "      <td>174.429758</td>\n",
       "      <td>119.207890</td>\n",
       "      <td>85.578063</td>\n",
       "      <td>60.224512</td>\n",
       "      <td>39.966468</td>\n",
       "      <td>46.453154</td>\n",
       "      <td>379.685460</td>\n",
       "    </tr>\n",
       "    <tr>\n",
       "      <th>용산구</th>\n",
       "      <td>24.766549</td>\n",
       "      <td>49.014590</td>\n",
       "      <td>158.820925</td>\n",
       "      <td>218.277692</td>\n",
       "      <td>150.106588</td>\n",
       "      <td>117.004602</td>\n",
       "      <td>89.081017</td>\n",
       "      <td>85.835576</td>\n",
       "      <td>69.255774</td>\n",
       "      <td>55.561059</td>\n",
       "      <td>41.873938</td>\n",
       "      <td>29.846866</td>\n",
       "      <td>28.673005</td>\n",
       "      <td>200.235238</td>\n",
       "    </tr>\n",
       "    <tr>\n",
       "      <th>은평구</th>\n",
       "      <td>23.284789</td>\n",
       "      <td>58.289046</td>\n",
       "      <td>123.490951</td>\n",
       "      <td>146.200673</td>\n",
       "      <td>95.292024</td>\n",
       "      <td>85.022538</td>\n",
       "      <td>74.787939</td>\n",
       "      <td>77.162767</td>\n",
       "      <td>62.757653</td>\n",
       "      <td>45.527462</td>\n",
       "      <td>34.543613</td>\n",
       "      <td>27.701175</td>\n",
       "      <td>27.012157</td>\n",
       "      <td>63.325638</td>\n",
       "    </tr>\n",
       "    <tr>\n",
       "      <th>종로구</th>\n",
       "      <td>47.627978</td>\n",
       "      <td>71.737831</td>\n",
       "      <td>265.214624</td>\n",
       "      <td>372.826420</td>\n",
       "      <td>280.462050</td>\n",
       "      <td>229.764793</td>\n",
       "      <td>182.329816</td>\n",
       "      <td>176.119579</td>\n",
       "      <td>139.991524</td>\n",
       "      <td>99.827362</td>\n",
       "      <td>73.619361</td>\n",
       "      <td>55.858591</td>\n",
       "      <td>57.883759</td>\n",
       "      <td>318.231352</td>\n",
       "    </tr>\n",
       "    <tr>\n",
       "      <th>중구</th>\n",
       "      <td>67.358885</td>\n",
       "      <td>604.869596</td>\n",
       "      <td>1537.382426</td>\n",
       "      <td>2280.815280</td>\n",
       "      <td>1658.839173</td>\n",
       "      <td>1341.500113</td>\n",
       "      <td>1016.958457</td>\n",
       "      <td>914.516919</td>\n",
       "      <td>710.992544</td>\n",
       "      <td>518.879526</td>\n",
       "      <td>364.610490</td>\n",
       "      <td>259.828530</td>\n",
       "      <td>252.170835</td>\n",
       "      <td>1855.252321</td>\n",
       "    </tr>\n",
       "    <tr>\n",
       "      <th>중랑구</th>\n",
       "      <td>24.131509</td>\n",
       "      <td>42.890843</td>\n",
       "      <td>97.000152</td>\n",
       "      <td>111.218521</td>\n",
       "      <td>84.905756</td>\n",
       "      <td>70.098501</td>\n",
       "      <td>52.114960</td>\n",
       "      <td>53.392526</td>\n",
       "      <td>47.822685</td>\n",
       "      <td>38.767975</td>\n",
       "      <td>31.024734</td>\n",
       "      <td>25.541735</td>\n",
       "      <td>24.518055</td>\n",
       "      <td>62.412396</td>\n",
       "    </tr>\n",
       "  </tbody>\n",
       "</table>\n",
       "</div>"
      ],
      "text/plain": [
       "year_se           00          15           20           25           30  \\\n",
       "signgu_nm                                                                 \n",
       "강남구        26.170321  109.348672   379.145233   650.650274   461.112042   \n",
       "강동구        28.825281   60.819348   123.586082   158.037287   108.386048   \n",
       "강북구        25.792382   53.531641   130.526030   139.752511    90.077265   \n",
       "강서구        24.730603   66.612351   169.622924   261.091930   185.905051   \n",
       "관악구        22.861429   59.311092   215.620876   315.901196   167.406757   \n",
       "광진구        25.267896   74.156873   254.423026   258.880448   140.892508   \n",
       "구로구        25.242828   49.234624   139.298760   220.402854   172.277200   \n",
       "금천구        22.861429   42.143724   150.821930   317.113487   270.935695   \n",
       "노원구        26.828253   89.728913   225.359342   181.837078   107.370629   \n",
       "도봉구        23.813989   45.929976    96.995666   101.762994    71.246290   \n",
       "동대문구       25.909620   54.847515   184.261409   195.827262   120.844445   \n",
       "동작구        27.499980   59.367307   217.085954   263.665163   146.630261   \n",
       "마포구        36.003990  114.217368   386.647089   531.615833   319.240772   \n",
       "서대문구       23.623477   77.889351   224.414354   229.412456   122.872365   \n",
       "서초구        26.671668   66.033672   236.319902   388.181670   276.433274   \n",
       "성동구        27.624227   53.901370   204.383429   270.574543   162.787177   \n",
       "성북구        26.248308   58.396914   169.656786   154.952089    90.075571   \n",
       "송파구        25.655604   56.108239   154.002998   238.358233   170.936552   \n",
       "양천구        28.856951   77.526280   127.117096   126.405177    89.383673   \n",
       "영등포구       23.950069   56.060242   204.664225   378.151623   305.188852   \n",
       "용산구        24.766549   49.014590   158.820925   218.277692   150.106588   \n",
       "은평구        23.284789   58.289046   123.490951   146.200673    95.292024   \n",
       "종로구        47.627978   71.737831   265.214624   372.826420   280.462050   \n",
       "중구         67.358885  604.869596  1537.382426  2280.815280  1658.839173   \n",
       "중랑구        24.131509   42.890843    97.000152   111.218521    84.905756   \n",
       "\n",
       "year_se             35           40          45          50          55  \\\n",
       "signgu_nm                                                                 \n",
       "강남구         329.080086   226.439640  210.433900  151.959436   99.284358   \n",
       "강동구          92.894773    76.744757   76.264491   62.293519   47.137397   \n",
       "강북구          73.061900    62.940724   65.514467   56.796723   47.390359   \n",
       "강서구         155.999832   121.305839  110.411020   86.742749   62.148886   \n",
       "관악구         102.242598    71.953395   65.670735   66.362243   51.397831   \n",
       "광진구          97.692685    72.456131   78.224129   70.025240   51.176010   \n",
       "구로구         149.293096   114.169508  107.752397   76.292974   56.323597   \n",
       "금천구         246.867038   181.283157  157.692519   97.878498   77.816229   \n",
       "노원구          88.949634    87.557777  109.661941   90.669071   60.009090   \n",
       "도봉구          63.592895    50.623527   57.057416   55.314655   45.839551   \n",
       "동대문구        103.515085    81.094479   77.981428   66.148606   52.638656   \n",
       "동작구         102.807369    79.102912   82.376905   84.654075   65.568082   \n",
       "마포구         208.304294   148.773856  134.860388  101.729795   69.052293   \n",
       "서대문구         99.253839    83.025110   86.304407   80.645195   61.499330   \n",
       "서초구         207.912286   153.357745  146.731479  116.415813   82.643901   \n",
       "성동구         116.053041    82.568191   79.178455   68.005341   51.580636   \n",
       "성북구          73.349359    63.927953   67.504767   57.042682   47.358529   \n",
       "송파구         135.983207   107.235671  100.697357   78.499882   60.734070   \n",
       "양천구          80.584758    82.488991   98.528278   78.593551   49.618984   \n",
       "영등포구        260.471589   194.422750  174.429758  119.207890   85.578063   \n",
       "용산구         117.004602    89.081017   85.835576   69.255774   55.561059   \n",
       "은평구          85.022538    74.787939   77.162767   62.757653   45.527462   \n",
       "종로구         229.764793   182.329816  176.119579  139.991524   99.827362   \n",
       "중구         1341.500113  1016.958457  914.516919  710.992544  518.879526   \n",
       "중랑구          70.098501    52.114960   53.392526   47.822685   38.767975   \n",
       "\n",
       "year_se            60          65          70           xx  \n",
       "signgu_nm                                                   \n",
       "강남구         64.225901   40.792235   39.291255   683.208101  \n",
       "강동구         36.821211   28.293046   25.924205    95.162633  \n",
       "강북구         33.699041   28.070038   26.138234    60.033405  \n",
       "강서구         43.385740   33.221123   28.557347   192.743623  \n",
       "관악구         37.543547   27.180957   25.628866   105.787103  \n",
       "광진구         36.105805   26.856406   26.447536   136.668391  \n",
       "구로구         39.817348   31.426416   27.676566   211.429051  \n",
       "금천구         57.449427   37.344545   32.733410   371.969323  \n",
       "노원구         37.439267   27.703808   26.311028    91.465141  \n",
       "도봉구         35.303024   28.244927   29.044902    55.520614  \n",
       "동대문구        40.483781   30.628454   28.114115   132.840034  \n",
       "동작구         43.401614   29.871104   28.050301   100.065394  \n",
       "마포구         44.031508   30.998088   30.573941   339.739723  \n",
       "서대문구        43.861722   30.124696   33.632680   128.504820  \n",
       "서초구         56.799172   40.793898   38.250954   364.206548  \n",
       "성동구         36.200892   27.451035   25.725501   198.503243  \n",
       "성북구         33.409070   26.499777   27.447203    81.367750  \n",
       "송파구         44.930207   35.319992   33.317659   186.860728  \n",
       "양천구         36.780463   29.114644   26.077410   109.992747  \n",
       "영등포구        60.224512   39.966468   46.453154   379.685460  \n",
       "용산구         41.873938   29.846866   28.673005   200.235238  \n",
       "은평구         34.543613   27.701175   27.012157    63.325638  \n",
       "종로구         73.619361   55.858591   57.883759   318.231352  \n",
       "중구         364.610490  259.828530  252.170835  1855.252321  \n",
       "중랑구         31.024734   25.541735   24.518055    62.412396  "
      ]
     },
     "execution_count": 21,
     "metadata": {},
     "output_type": "execute_result"
    }
   ],
   "source": [
    "#행정구/연령대별 커피 소비인구 테이블\n",
    "df_seoul.pivot_table(index='signgu_nm', columns='year_se', values='cnsmr_popltn_co', aggfunc=np.mean)"
   ]
  },
  {
   "cell_type": "code",
   "execution_count": null,
   "metadata": {},
   "outputs": [],
   "source": []
  }
 ],
 "metadata": {
  "colab": {
   "collapsed_sections": [],
   "name": "얼죽아.ipynb",
   "provenance": []
  },
  "kernelspec": {
   "display_name": "Python 3",
   "language": "python",
   "name": "python3"
  },
  "language_info": {
   "codemirror_mode": {
    "name": "ipython",
    "version": 3
   },
   "file_extension": ".py",
   "mimetype": "text/x-python",
   "name": "python",
   "nbconvert_exporter": "python",
   "pygments_lexer": "ipython3",
   "version": "3.8.11"
  }
 },
 "nbformat": 4,
 "nbformat_minor": 1
}
