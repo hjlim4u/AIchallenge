{
  "nbformat": 4,
  "nbformat_minor": 0,
  "metadata": {
    "colab": {
      "name": "얼죽아.ipynb",
      "provenance": [],
      "collapsed_sections": [],
      "include_colab_link": true
    },
    "kernelspec": {
      "name": "python3",
      "display_name": "Python 3"
    }
  },
  "cells": [
    {
      "cell_type": "markdown",
      "metadata": {
        "id": "view-in-github",
        "colab_type": "text"
      },
      "source": [
        "<a href=\"https://colab.research.google.com/github/hjlim4u/AIchallenge/blob/main/%EC%96%BC%EC%A3%BD%EC%95%84.ipynb\" target=\"_parent\"><img src=\"https://colab.research.google.com/assets/colab-badge.svg\" alt=\"Open In Colab\"/></a>"
      ]
    },
    {
      "cell_type": "code",
      "metadata": {
        "id": "vyfaw3sm7rSb"
      },
      "source": [
        "from google.colab import drive"
      ],
      "execution_count": null,
      "outputs": []
    },
    {
      "cell_type": "code",
      "metadata": {
        "id": "8mo7Wea19LDL",
        "colab": {
          "base_uri": "https://localhost:8080/"
        },
        "outputId": "071626a3-b285-4913-f596-75fdf1c869b9"
      },
      "source": [
        "import pandas as pd\n",
        "import numpy as np\n",
        "import matplotlib.pyplot as plt\n",
        "\n",
        "import seaborn as sns\n",
        "\n",
        "%matplotlib inline\n",
        "\n",
        "import platform\n",
        "\n",
        "path = \"c:/Windows/Fonts/malgun.ttf\"\n",
        "from matplotlib import font_manager, rc\n",
        "if platform.system() == 'Darwin':\n",
        "    rc('font', family='AppleGothic')\n",
        "elif platform.system() == 'Windows':\n",
        "    font_name = font_manager.FontProperties(fname=path).get_name()\n",
        "    rc('font', family=font_name)\n",
        "else:\n",
        "    print('Unknown system... sorry~~~~') \n",
        "coffee_df=pd.read_csv(\"행정동별_커피분야_소비인구(2020.03_2020.05).csv\")\n",
        "\n"
      ],
      "execution_count": null,
      "outputs": [
        {
          "output_type": "stream",
          "text": [
            "Unknown system... sorry~~~~\n"
          ],
          "name": "stdout"
        }
      ]
    },
    {
      "cell_type": "code",
      "metadata": {
        "id": "Adb2kKS_9mzk",
        "colab": {
          "base_uri": "https://localhost:8080/"
        },
        "outputId": "e9ddb9e5-6ba5-4f65-848d-3a6d8ffebc8d"
      },
      "source": [
        "coffee_df.info"
      ],
      "execution_count": null,
      "outputs": [
        {
          "output_type": "execute_result",
          "data": {
            "text/plain": [
              "<bound method DataFrame.info of           gov_dn_cd  brtc_nm signgu_nm  ... sex_se  year_se cnsmr_popltn_co\n",
              "0        1111051500    서울특별시       종로구  ...      F       20       91.445718\n",
              "1        1111051500    서울특별시       종로구  ...      F       25       83.825241\n",
              "2        1111051500    서울특별시       종로구  ...      F       30       53.343335\n",
              "3        1111051500    서울특별시       종로구  ...      F       35       60.963812\n",
              "4        1111051500    서울특별시       종로구  ...      F       45       30.481906\n",
              "...             ...      ...       ...  ...    ...      ...             ...\n",
              "2410310  5013062000  제주특별자치도      서귀포시  ...      X       xx       22.861429\n",
              "2410311  5013062000  제주특별자치도      서귀포시  ...      F       25       22.861429\n",
              "2410312  5013062000  제주특별자치도      서귀포시  ...      M       35       38.102382\n",
              "2410313  5013062000  제주특별자치도      서귀포시  ...      M       40       22.861429\n",
              "2410314  5013062000  제주특별자치도      서귀포시  ...      X       xx       22.861429\n",
              "\n",
              "[2410315 rows x 8 columns]>"
            ]
          },
          "metadata": {
            "tags": []
          },
          "execution_count": 3
        }
      ]
    },
    {
      "cell_type": "code",
      "metadata": {
        "id": "lfnKqFXD9nhn",
        "colab": {
          "base_uri": "https://localhost:8080/",
          "height": 202
        },
        "outputId": "c2659412-4bc6-45eb-95cf-ad19f6ac6609"
      },
      "source": [
        "#3\n",
        "coffee_df.head()\n"
      ],
      "execution_count": null,
      "outputs": [
        {
          "output_type": "execute_result",
          "data": {
            "text/html": [
              "<div>\n",
              "<style scoped>\n",
              "    .dataframe tbody tr th:only-of-type {\n",
              "        vertical-align: middle;\n",
              "    }\n",
              "\n",
              "    .dataframe tbody tr th {\n",
              "        vertical-align: top;\n",
              "    }\n",
              "\n",
              "    .dataframe thead th {\n",
              "        text-align: right;\n",
              "    }\n",
              "</style>\n",
              "<table border=\"1\" class=\"dataframe\">\n",
              "  <thead>\n",
              "    <tr style=\"text-align: right;\">\n",
              "      <th></th>\n",
              "      <th>gov_dn_cd</th>\n",
              "      <th>brtc_nm</th>\n",
              "      <th>signgu_nm</th>\n",
              "      <th>adstrd_nm</th>\n",
              "      <th>de</th>\n",
              "      <th>sex_se</th>\n",
              "      <th>year_se</th>\n",
              "      <th>cnsmr_popltn_co</th>\n",
              "    </tr>\n",
              "  </thead>\n",
              "  <tbody>\n",
              "    <tr>\n",
              "      <th>0</th>\n",
              "      <td>1111051500</td>\n",
              "      <td>서울특별시</td>\n",
              "      <td>종로구</td>\n",
              "      <td>청운효자동</td>\n",
              "      <td>20200301</td>\n",
              "      <td>F</td>\n",
              "      <td>20</td>\n",
              "      <td>91.445718</td>\n",
              "    </tr>\n",
              "    <tr>\n",
              "      <th>1</th>\n",
              "      <td>1111051500</td>\n",
              "      <td>서울특별시</td>\n",
              "      <td>종로구</td>\n",
              "      <td>청운효자동</td>\n",
              "      <td>20200301</td>\n",
              "      <td>F</td>\n",
              "      <td>25</td>\n",
              "      <td>83.825241</td>\n",
              "    </tr>\n",
              "    <tr>\n",
              "      <th>2</th>\n",
              "      <td>1111051500</td>\n",
              "      <td>서울특별시</td>\n",
              "      <td>종로구</td>\n",
              "      <td>청운효자동</td>\n",
              "      <td>20200301</td>\n",
              "      <td>F</td>\n",
              "      <td>30</td>\n",
              "      <td>53.343335</td>\n",
              "    </tr>\n",
              "    <tr>\n",
              "      <th>3</th>\n",
              "      <td>1111051500</td>\n",
              "      <td>서울특별시</td>\n",
              "      <td>종로구</td>\n",
              "      <td>청운효자동</td>\n",
              "      <td>20200301</td>\n",
              "      <td>F</td>\n",
              "      <td>35</td>\n",
              "      <td>60.963812</td>\n",
              "    </tr>\n",
              "    <tr>\n",
              "      <th>4</th>\n",
              "      <td>1111051500</td>\n",
              "      <td>서울특별시</td>\n",
              "      <td>종로구</td>\n",
              "      <td>청운효자동</td>\n",
              "      <td>20200301</td>\n",
              "      <td>F</td>\n",
              "      <td>45</td>\n",
              "      <td>30.481906</td>\n",
              "    </tr>\n",
              "  </tbody>\n",
              "</table>\n",
              "</div>"
            ],
            "text/plain": [
              "    gov_dn_cd brtc_nm signgu_nm  ... sex_se  year_se cnsmr_popltn_co\n",
              "0  1111051500   서울특별시       종로구  ...      F       20       91.445718\n",
              "1  1111051500   서울특별시       종로구  ...      F       25       83.825241\n",
              "2  1111051500   서울특별시       종로구  ...      F       30       53.343335\n",
              "3  1111051500   서울특별시       종로구  ...      F       35       60.963812\n",
              "4  1111051500   서울특별시       종로구  ...      F       45       30.481906\n",
              "\n",
              "[5 rows x 8 columns]"
            ]
          },
          "metadata": {
            "tags": []
          },
          "execution_count": 4
        }
      ]
    },
    {
      "cell_type": "code",
      "metadata": {
        "colab": {
          "base_uri": "https://localhost:8080/"
        },
        "id": "ZBO9UQ_Uv2Po",
        "outputId": "17f69d18-c0d9-4c53-e47b-8a4d5d40a307"
      },
      "source": [
        "coffee_df.groupby(\"adstrd_nm\")[\"cnsmr_popltn_co\"].sum().sort_values(ascending=False)"
      ],
      "execution_count": null,
      "outputs": [
        {
          "output_type": "execute_result",
          "data": {
            "text/plain": [
              "adstrd_nm\n",
              "소공동            2.604429e+07\n",
              "역삼1동           3.192134e+06\n",
              "중앙동            2.595969e+06\n",
              "여의동            2.164688e+06\n",
              "종로1.2.3.4가동    2.024608e+06\n",
              "                   ...     \n",
              "서후면            2.286143e+01\n",
              "사벌면            2.286143e+01\n",
              "산내면            2.286143e+01\n",
              "산인면            2.286143e+01\n",
              "부곡면            2.286143e+01\n",
              "Name: cnsmr_popltn_co, Length: 2423, dtype: float64"
            ]
          },
          "metadata": {
            "tags": []
          },
          "execution_count": 10
        }
      ]
    },
    {
      "cell_type": "code",
      "metadata": {
        "colab": {
          "base_uri": "https://localhost:8080/"
        },
        "id": "lCMkKJ9RzUTx",
        "outputId": "c659cb45-3b7a-433b-93d2-bdf316b80e71"
      },
      "source": [
        "coffee_df[coffee_df['sex_se']==\"F\"].groupby('adstrd_nm')['cnsmr_popltn_co'].sum().sort_values(ascending=False)"
      ],
      "execution_count": null,
      "outputs": [
        {
          "output_type": "execute_result",
          "data": {
            "text/plain": [
              "adstrd_nm\n",
              "소공동            1.247528e+07\n",
              "역삼1동           1.456822e+06\n",
              "중앙동            1.238495e+06\n",
              "서교동            1.035234e+06\n",
              "종로1.2.3.4가동    8.890276e+05\n",
              "                   ...     \n",
              "금동             2.286143e+01\n",
              "병영면            2.286143e+01\n",
              "산내면            2.286143e+01\n",
              "다도면            2.286143e+01\n",
              "별량면            2.286143e+01\n",
              "Name: cnsmr_popltn_co, Length: 2378, dtype: float64"
            ]
          },
          "metadata": {
            "tags": []
          },
          "execution_count": 14
        }
      ]
    },
    {
      "cell_type": "code",
      "metadata": {
        "colab": {
          "base_uri": "https://localhost:8080/"
        },
        "id": "-2HC_dKZ2tam",
        "outputId": "ccfff041-1146-48ef-f71e-1a34b4db3872"
      },
      "source": [
        "coffee_df[coffee_df['sex_se']==\"M\"].groupby('adstrd_nm')['cnsmr_popltn_co'].sum().sort_values(ascending=False)"
      ],
      "execution_count": null,
      "outputs": [
        {
          "output_type": "execute_result",
          "data": {
            "text/plain": [
              "adstrd_nm\n",
              "소공동            1.149790e+07\n",
              "역삼1동           1.400819e+06\n",
              "중앙동            1.240743e+06\n",
              "여의동            1.091306e+06\n",
              "종로1.2.3.4가동    9.417842e+05\n",
              "                   ...     \n",
              "진상면            2.286143e+01\n",
              "월산면            2.286143e+01\n",
              "봉황면            2.286143e+01\n",
              "대산면            2.286143e+01\n",
              "해도동            2.286143e+01\n",
              "Name: cnsmr_popltn_co, Length: 2399, dtype: float64"
            ]
          },
          "metadata": {
            "tags": []
          },
          "execution_count": 15
        }
      ]
    },
    {
      "cell_type": "code",
      "metadata": {
        "colab": {
          "base_uri": "https://localhost:8080/"
        },
        "id": "lOXyITsC28KD",
        "outputId": "6445351c-7d98-46ca-a9e4-e0a2f2bf444a"
      },
      "source": [
        "coffee_df.groupby(['adstrd_nm','year_se'])['cnsmr_popltn_co'].sum().sort_values(ascending=False)"
      ],
      "execution_count": null,
      "outputs": [
        {
          "output_type": "execute_result",
          "data": {
            "text/plain": [
              "adstrd_nm  year_se\n",
              "소공동        25         5.833307e+06\n",
              "           30         3.997664e+06\n",
              "           20         3.720058e+06\n",
              "           35         3.047680e+06\n",
              "           40         2.062360e+06\n",
              "                          ...     \n",
              "북삼동        60         2.286143e+01\n",
              "음암면        20         2.286143e+01\n",
              "북부동        70         2.286143e+01\n",
              "홍북읍        70         2.286143e+01\n",
              "하북면        65         2.286143e+01\n",
              "Name: cnsmr_popltn_co, Length: 26349, dtype: float64"
            ]
          },
          "metadata": {
            "tags": []
          },
          "execution_count": 18
        }
      ]
    },
    {
      "cell_type": "code",
      "metadata": {
        "id": "73e1JEB8K_cP"
      },
      "source": [
        "coffee_df['de']=pd.to_datetime(coffee_df['de'].astype(str), format='%Y-%m-%d')"
      ],
      "execution_count": null,
      "outputs": []
    },
    {
      "cell_type": "code",
      "metadata": {
        "colab": {
          "base_uri": "https://localhost:8080/"
        },
        "id": "YQTk6hSeNBq8",
        "outputId": "da0b1312-7785-4cf5-9750-624d2155453b"
      },
      "source": [
        "print(coffee_df['de'].dt.month)"
      ],
      "execution_count": null,
      "outputs": [
        {
          "output_type": "stream",
          "text": [
            "0          1\n",
            "1          1\n",
            "2          1\n",
            "3          1\n",
            "4          1\n",
            "          ..\n",
            "2410310    1\n",
            "2410311    1\n",
            "2410312    1\n",
            "2410313    1\n",
            "2410314    1\n",
            "Name: de, Length: 2410315, dtype: int64\n"
          ],
          "name": "stdout"
        }
      ]
    }
  ]
}
